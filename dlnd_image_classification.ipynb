{
 "cells": [
  {
   "cell_type": "markdown",
   "metadata": {
    "collapsed": true
   },
   "source": [
    "# Image Classification\n",
    "In this project, you'll classify images from the [CIFAR-10 dataset](https://www.cs.toronto.edu/~kriz/cifar.html).  The dataset consists of airplanes, dogs, cats, and other objects. You'll preprocess the images, then train a convolutional neural network on all the samples. The images need to be normalized and the labels need to be one-hot encoded.  You'll get to apply what you learned and build a convolutional, max pooling, dropout, and fully connected layers.  At the end, you'll get to see your neural network's predictions on the sample images.\n",
    "## Get the Data\n",
    "Run the following cell to download the [CIFAR-10 dataset for python](https://www.cs.toronto.edu/~kriz/cifar-10-python.tar.gz)."
   ]
  },
  {
   "cell_type": "code",
   "execution_count": 1,
   "metadata": {},
   "outputs": [
    {
     "name": "stdout",
     "output_type": "stream",
     "text": [
      "All files found!\n"
     ]
    }
   ],
   "source": [
    "\"\"\"\n",
    "DON'T MODIFY ANYTHING IN THIS CELL THAT IS BELOW THIS LINE\n",
    "\"\"\"\n",
    "from urllib.request import urlretrieve\n",
    "from os.path import isfile, isdir\n",
    "from tqdm import tqdm\n",
    "import problem_unittests as tests\n",
    "import tarfile\n",
    "\n",
    "cifar10_dataset_folder_path = 'cifar-10-batches-py'\n",
    "\n",
    "# Use Floyd's cifar-10 dataset if present\n",
    "floyd_cifar10_location = '/input/cifar-10/python.tar.gz'\n",
    "if isfile(floyd_cifar10_location):\n",
    "    tar_gz_path = floyd_cifar10_location\n",
    "else:\n",
    "    tar_gz_path = 'cifar-10-python.tar.gz'\n",
    "\n",
    "class DLProgress(tqdm):\n",
    "    last_block = 0\n",
    "\n",
    "    def hook(self, block_num=1, block_size=1, total_size=None):\n",
    "        self.total = total_size\n",
    "        self.update((block_num - self.last_block) * block_size)\n",
    "        self.last_block = block_num\n",
    "\n",
    "if not isfile(tar_gz_path):\n",
    "    with DLProgress(unit='B', unit_scale=True, miniters=1, desc='CIFAR-10 Dataset') as pbar:\n",
    "        urlretrieve(\n",
    "            'https://www.cs.toronto.edu/~kriz/cifar-10-python.tar.gz',\n",
    "            tar_gz_path,\n",
    "            pbar.hook)\n",
    "\n",
    "if not isdir(cifar10_dataset_folder_path):\n",
    "    with tarfile.open(tar_gz_path) as tar:\n",
    "        tar.extractall()\n",
    "        tar.close()\n",
    "\n",
    "\n",
    "tests.test_folder_path(cifar10_dataset_folder_path)"
   ]
  },
  {
   "cell_type": "markdown",
   "metadata": {},
   "source": [
    "## Explore the Data\n",
    "The dataset is broken into batches to prevent your machine from running out of memory.  The CIFAR-10 dataset consists of 5 batches, named `data_batch_1`, `data_batch_2`, etc.. Each batch contains the labels and images that are one of the following:\n",
    "* airplane\n",
    "* automobile\n",
    "* bird\n",
    "* cat\n",
    "* deer\n",
    "* dog\n",
    "* frog\n",
    "* horse\n",
    "* ship\n",
    "* truck\n",
    "\n",
    "Understanding a dataset is part of making predictions on the data.  Play around with the code cell below by changing the `batch_id` and `sample_id`. The `batch_id` is the id for a batch (1-5). The `sample_id` is the id for a image and label pair in the batch.\n",
    "\n",
    "Ask yourself \"What are all possible labels?\", \"What is the range of values for the image data?\", \"Are the labels in order or random?\".  Answers to questions like these will help you preprocess the data and end up with better predictions."
   ]
  },
  {
   "cell_type": "code",
   "execution_count": 2,
   "metadata": {},
   "outputs": [
    {
     "name": "stdout",
     "output_type": "stream",
     "text": [
      "\n",
      "Stats of batch 1:\n",
      "Samples: 10000\n",
      "Label Counts: {0: 1005, 1: 974, 2: 1032, 3: 1016, 4: 999, 5: 937, 6: 1030, 7: 1001, 8: 1025, 9: 981}\n",
      "First 20 Labels: [6, 9, 9, 4, 1, 1, 2, 7, 8, 3, 4, 7, 7, 2, 9, 9, 9, 3, 2, 6]\n",
      "\n",
      "Example of Image 1:\n",
      "Image - Min Value: 5 Max Value: 254\n",
      "Image - Shape: (32, 32, 3)\n",
      "Label - Label Id: 9 Name: truck\n"
     ]
    },
    {
     "data": {
      "image/png": "[encoded data removed]",
      "text/plain": [
       "<matplotlib.figure.Figure at 0x7f2828e9cb38>"
      ]
     },
     "metadata": {
      "image/png": {
       "height": 250,
       "width": 253
      }
     },
     "output_type": "display_data"
    }
   ],
   "source": [
    "%matplotlib inline\n",
    "%config InlineBackend.figure_format = 'retina'\n",
    "\n",
    "import helper\n",
    "import numpy as np\n",
    "\n",
    "# Explore the dataset\n",
    "batch_id = 1\n",
    "sample_id = 1\n",
    "helper.display_stats(cifar10_dataset_folder_path, batch_id, sample_id)"
   ]
  },
  {
   "cell_type": "markdown",
   "metadata": {},
   "source": [
    "## Implement Preprocess Functions\n",
    "### Normalize\n",
    "In the cell below, implement the `normalize` function to take in image data, `x`, and return it as a normalized Numpy array. The values should be in the range of 0 to 1, inclusive.  The return object should be the same shape as `x`."
   ]
  },
  {
   "cell_type": "code",
   "execution_count": 3,
   "metadata": {},
   "outputs": [
    {
     "name": "stdout",
     "output_type": "stream",
     "text": [
      "Tests Passed\n"
     ]
    }
   ],
   "source": [
    "def normalize(x):\n",
    "    \"\"\"\n",
    "    Normalize a list of sample image data in the range of 0 to 1\n",
    "    : x: List of image data.  The image shape is (32, 32, 3)\n",
    "    : return: Numpy array of normalize data\n",
    "    \"\"\"\n",
    "    # TODO: Implement Function\n",
    "    # return np.array(x, dtype=np.float32).reshape((10000,32,32,3))\n",
    "    return x / 255\n",
    "\n",
    "\n",
    "\n",
    "\"\"\"\n",
    "DON'T MODIFY ANYTHING IN THIS CELL THAT IS BELOW THIS LINE\n",
    "\"\"\"\n",
    "tests.test_normalize(normalize)"
   ]
  },
  {
   "cell_type": "markdown",
   "metadata": {},
   "source": [
    "### One-hot encode\n",
    "Just like the previous code cell, you'll be implementing a function for preprocessing.  This time, you'll implement the `one_hot_encode` function. The input, `x`, are a list of labels.  Implement the function to return the list of labels as One-Hot encoded Numpy array.  The possible values for labels are 0 to 9. The one-hot encoding function should return the same encoding for each value between each call to `one_hot_encode`.  Make sure to save the map of encodings outside the function.\n",
    "\n",
    "Hint: Don't reinvent the wheel."
   ]
  },
  {
   "cell_type": "code",
   "execution_count": 4,
   "metadata": {},
   "outputs": [
    {
     "name": "stdout",
     "output_type": "stream",
     "text": [
      "Tests Passed\n"
     ]
    }
   ],
   "source": [
    "def one_hot_encode(x):\n",
    "    \"\"\"\n",
    "    One hot encode a list of sample labels. Return a one-hot encoded vector for each label.\n",
    "    : x: List of sample Labels\n",
    "    : return: Numpy array of one-hot encoded labels\n",
    "    \"\"\"\n",
    "    # TODO: Implement Function\n",
    "    one_hot_arr = np.zeros((len(x), 10))\n",
    "    for i in range (len(x)):\n",
    "        one_hot_arr[i][x[i]] = 1\n",
    "    return one_hot_arr\n",
    "\n",
    "\n",
    "\"\"\"\n",
    "DON'T MODIFY ANYTHING IN THIS CELL THAT IS BELOW THIS LINE\n",
    "\"\"\"\n",
    "tests.test_one_hot_encode(one_hot_encode)"
   ]
  },
  {
   "cell_type": "markdown",
   "metadata": {},
   "source": [
    "### Randomize Data\n",
    "As you saw from exploring the data above, the order of the samples are randomized.  It doesn't hurt to randomize it again, but you don't need to for this dataset."
   ]
  },
  {
   "cell_type": "markdown",
   "metadata": {},
   "source": [
    "## Preprocess all the data and save it\n",
    "Running the code cell below will preprocess all the CIFAR-10 data and save it to file. The code below also uses 10% of the training data for validation."
   ]
  },
  {
   "cell_type": "code",
   "execution_count": 5,
   "metadata": {
    "collapsed": true
   },
   "outputs": [],
   "source": [
    "\"\"\"\n",
    "DON'T MODIFY ANYTHING IN THIS CELL\n",
    "\"\"\"\n",
    "# Preprocess Training, Validation, and Testing Data\n",
    "helper.preprocess_and_save_data(cifar10_dataset_folder_path, normalize, one_hot_encode)"
   ]
  },
  {
   "cell_type": "markdown",
   "metadata": {},
   "source": [
    "# Check Point\n",
    "This is your first checkpoint.  If you ever decide to come back to this notebook or have to restart the notebook, you can start from here.  The preprocessed data has been saved to disk."
   ]
  },
  {
   "cell_type": "code",
   "execution_count": 6,
   "metadata": {
    "collapsed": true
   },
   "outputs": [],
   "source": [
    "\"\"\"\n",
    "DON'T MODIFY ANYTHING IN THIS CELL\n",
    "\"\"\"\n",
    "import pickle\n",
    "import problem_unittests as tests\n",
    "import helper\n",
    "\n",
    "# Load the Preprocessed Validation data\n",
    "valid_features, valid_labels = pickle.load(open('preprocess_validation.p', mode='rb'))"
   ]
  },
  {
   "cell_type": "markdown",
   "metadata": {},
   "source": [
    "## Build the network\n",
    "For the neural network, you'll build each layer into a function.  Most of the code you've seen has been outside of functions. To test your code more thoroughly, we require that you put each layer in a function.  This allows us to give you better feedback and test for simple mistakes using our unittests before you submit your project.\n",
    "\n",
    ">**Note:** If you're finding it hard to dedicate enough time for this course each week, we've provided a small shortcut to this part of the project. In the next couple of problems, you'll have the option to use classes from the [TensorFlow Layers](https://www.tensorflow.org/api_docs/python/tf/layers) or [TensorFlow Layers (contrib)](https://www.tensorflow.org/api_guides/python/contrib.layers) packages to build each layer, except the layers you build in the \"Convolutional and Max Pooling Layer\" section.  TF Layers is similar to Keras's and TFLearn's abstraction to layers, so it's easy to pickup.\n",
    "\n",
    ">However, if you would like to get the most out of this course, try to solve all the problems _without_ using anything from the TF Layers packages. You **can** still use classes from other packages that happen to have the same name as ones you find in TF Layers! For example, instead of using the TF Layers version of the `conv2d` class, [tf.layers.conv2d](https://www.tensorflow.org/api_docs/python/tf/layers/conv2d), you would want to use the TF Neural Network version of `conv2d`, [tf.nn.conv2d](https://www.tensorflow.org/api_docs/python/tf/nn/conv2d). \n",
    "\n",
    "Let's begin!\n",
    "\n",
    "### Input\n",
    "The neural network needs to read the image data, one-hot encoded labels, and dropout keep probability. Implement the following functions\n",
    "* Implement `neural_net_image_input`\n",
    " * Return a [TF Placeholder](https://www.tensorflow.org/api_docs/python/tf/placeholder)\n",
    " * Set the shape using `image_shape` with batch size set to `None`.\n",
    " * Name the TensorFlow placeholder \"x\" using the TensorFlow `name` parameter in the [TF Placeholder](https://www.tensorflow.org/api_docs/python/tf/placeholder).\n",
    "* Implement `neural_net_label_input`\n",
    " * Return a [TF Placeholder](https://www.tensorflow.org/api_docs/python/tf/placeholder)\n",
    " * Set the shape using `n_classes` with batch size set to `None`.\n",
    " * Name the TensorFlow placeholder \"y\" using the TensorFlow `name` parameter in the [TF Placeholder](https://www.tensorflow.org/api_docs/python/tf/placeholder).\n",
    "* Implement `neural_net_keep_prob_input`\n",
    " * Return a [TF Placeholder](https://www.tensorflow.org/api_docs/python/tf/placeholder) for dropout keep probability.\n",
    " * Name the TensorFlow placeholder \"keep_prob\" using the TensorFlow `name` parameter in the [TF Placeholder](https://www.tensorflow.org/api_docs/python/tf/placeholder).\n",
    "\n",
    "These names will be used at the end of the project to load your saved model.\n",
    "\n",
    "Note: `None` for shapes in TensorFlow allow for a dynamic size."
   ]
  },
  {
   "cell_type": "code",
   "execution_count": 7,
   "metadata": {},
   "outputs": [
    {
     "name": "stdout",
     "output_type": "stream",
     "text": [
      "Image Input Tests Passed.\n",
      "Label Input Tests Passed.\n",
      "Keep Prob Tests Passed.\n"
     ]
    }
   ],
   "source": [
    "import tensorflow as tf\n",
    "\n",
    "def neural_net_image_input(image_shape):\n",
    "    \"\"\"\n",
    "    Return a Tensor for a bach of image input\n",
    "    : image_shape: Shape of the images\n",
    "    : return: Tensor for image input.\n",
    "    \"\"\"\n",
    "    # TODO: Implement Function\n",
    "    return tf.placeholder(tf.float32, [None] + list(image_shape), name='x')\n",
    "\n",
    "\n",
    "def neural_net_label_input(n_classes):\n",
    "    \"\"\"\n",
    "    Return a Tensor for a batch of label input\n",
    "    : n_classes: Number of classes\n",
    "    : return: Tensor for label input.\n",
    "    \"\"\"\n",
    "    # TODO: Implement Function\n",
    "    return tf.placeholder(tf.float32, shape=[None, n_classes], name='y')\n",
    "\n",
    "\n",
    "def neural_net_keep_prob_input():\n",
    "    \"\"\"\n",
    "    Return a Tensor for keep probability\n",
    "    : return: Tensor for keep probability.\n",
    "    \"\"\"\n",
    "    # TODO: Implement Function\n",
    "    return tf.placeholder(tf.float32, shape=None, name='keep_prob')\n",
    "\n",
    "\n",
    "\"\"\"\n",
    "DON'T MODIFY ANYTHING IN THIS CELL THAT IS BELOW THIS LINE\n",
    "\"\"\"\n",
    "tf.reset_default_graph()\n",
    "tests.test_nn_image_inputs(neural_net_image_input)\n",
    "tests.test_nn_label_inputs(neural_net_label_input)\n",
    "tests.test_nn_keep_prob_inputs(neural_net_keep_prob_input)"
   ]
  },
  {
   "cell_type": "markdown",
   "metadata": {},
   "source": [
    "### Convolution and Max Pooling Layer\n",
    "Convolution layers have a lot of success with images. For this code cell, you should implement the function `conv2d_maxpool` to apply convolution then max pooling:\n",
    "* Create the weight and bias using `conv_ksize`, `conv_num_outputs` and the shape of `x_tensor`.\n",
    "* Apply a convolution to `x_tensor` using weight and `conv_strides`.\n",
    " * We recommend you use same padding, but you're welcome to use any padding.\n",
    "* Add bias\n",
    "* Add a nonlinear activation to the convolution.\n",
    "* Apply Max Pooling using `pool_ksize` and `pool_strides`.\n",
    " * We recommend you use same padding, but you're welcome to use any padding.\n",
    "\n",
    "**Note:** You **can't** use [TensorFlow Layers](https://www.tensorflow.org/api_docs/python/tf/layers) or [TensorFlow Layers (contrib)](https://www.tensorflow.org/api_guides/python/contrib.layers) for **this** layer, but you can still use TensorFlow's [Neural Network](https://www.tensorflow.org/api_docs/python/tf/nn) package. You may still use the shortcut option for all the **other** layers."
   ]
  },
  {
   "cell_type": "code",
   "execution_count": 8,
   "metadata": {},
   "outputs": [
    {
     "name": "stdout",
     "output_type": "stream",
     "text": [
      "Tests Passed\n"
     ]
    }
   ],
   "source": [
    "def conv2d_maxpool(x_tensor, conv_num_outputs, conv_ksize, conv_strides, pool_ksize, pool_strides):\n",
    "    \"\"\"\n",
    "    Apply convolution then max pooling to x_tensor\n",
    "    :param x_tensor: TensorFlow Tensor\n",
    "    :param conv_num_outputs: Number of outputs for the convolutional layer\n",
    "    :param conv_ksize: kernal size 2-D Tuple for the convolutional layer\n",
    "    :param conv_strides: Stride 2-D Tuple for convolution\n",
    "    :param pool_ksize: kernal size 2-D Tuple for pool\n",
    "    :param pool_strides: Stride 2-D Tuple for pool\n",
    "    : return: A tensor that represents convolution and max pooling of x_tensor\n",
    "    \"\"\"\n",
    "    # TODO: Implement Function\n",
    "\n",
    "    # deconstruct x_tensor\n",
    "    q, h, w, k = x_tensor.get_shape().as_list()\n",
    "\n",
    "    weights = tf.Variable(tf.random_normal([conv_ksize[0], conv_ksize[1], k, conv_num_outputs], stddev=0.1))\n",
    "    biases = tf.Variable(tf.random_normal([conv_num_outputs]))\n",
    "    \n",
    "    x = tf.nn.conv2d(x_tensor,\n",
    "                     weights,\n",
    "                     strides=[1,\n",
    "                              conv_strides[0],\n",
    "                              conv_strides[1],\n",
    "                              1],\n",
    "                     padding='SAME')\n",
    "    \n",
    "    x = tf.nn.bias_add(x, biases)\n",
    "    x = tf.nn.relu(x)\n",
    "    x = tf.nn.max_pool(x, \n",
    "                        ksize=[1, pool_ksize[0], pool_ksize[1], 1],\n",
    "                        strides=[1, pool_strides[0], pool_strides[1], 1],\n",
    "                        padding='SAME'\n",
    "                       )\n",
    "    \n",
    "    return x\n",
    "    \n",
    "    '''\n",
    "    def maxpool2d(x, k=2):\n",
    "    return tf.nn.max_pool(\n",
    "        x,\n",
    "        ksize=[1, k, k, 1],\n",
    "        strides=[1, k, k, 1],\n",
    "        padding='SAME')\n",
    "    '''\n",
    "\n",
    "\"\"\"\n",
    "DON'T MODIFY ANYTHING IN THIS CELL THAT IS BELOW THIS LINE\n",
    "\"\"\"\n",
    "tests.test_con_pool(conv2d_maxpool)"
   ]
  },
  {
   "cell_type": "markdown",
   "metadata": {},
   "source": [
    "### Flatten Layer\n",
    "Implement the `flatten` function to change the dimension of `x_tensor` from a 4-D tensor to a 2-D tensor.  The output should be the shape (*Batch Size*, *Flattened Image Size*). Shortcut option: you can use classes from the [TensorFlow Layers](https://www.tensorflow.org/api_docs/python/tf/layers) or [TensorFlow Layers (contrib)](https://www.tensorflow.org/api_guides/python/contrib.layers) packages for this layer. For more of a challenge, only use other TensorFlow packages."
   ]
  },
  {
   "cell_type": "code",
   "execution_count": 9,
   "metadata": {},
   "outputs": [
    {
     "name": "stdout",
     "output_type": "stream",
     "text": [
      "Tests Passed\n"
     ]
    }
   ],
   "source": [
    "def flatten(x_tensor):\n",
    "    \"\"\"\n",
    "    Flatten x_tensor to (Batch Size, Flattened Image Size)\n",
    "    : x_tensor: A tensor of size (Batch Size, ...), where ... are the image dimensions.\n",
    "    : return: A tensor of size (Batch Size, Flattened Image Size).\n",
    "    \"\"\"\n",
    "    # TODO: Implement Function\n",
    "    to_flat = x_tensor.get_shape().as_list()    \n",
    "    return tf.reshape(x_tensor,\n",
    "                      [-1,\n",
    "                       np.prod(to_flat[1:])\n",
    "                      ])\n",
    "\n",
    "\"\"\"\n",
    "DON'T MODIFY ANYTHING IN THIS CELL THAT IS BELOW THIS LINE\n",
    "\"\"\"\n",
    "tests.test_flatten(flatten)"
   ]
  },
  {
   "cell_type": "markdown",
   "metadata": {},
   "source": [
    "### Fully-Connected Layer\n",
    "Implement the `fully_conn` function to apply a fully connected layer to `x_tensor` with the shape (*Batch Size*, *num_outputs*). Shortcut option: you can use classes from the [TensorFlow Layers](https://www.tensorflow.org/api_docs/python/tf/layers) or [TensorFlow Layers (contrib)](https://www.tensorflow.org/api_guides/python/contrib.layers) packages for this layer. For more of a challenge, only use other TensorFlow packages."
   ]
  },
  {
   "cell_type": "code",
   "execution_count": 10,
   "metadata": {},
   "outputs": [
    {
     "name": "stdout",
     "output_type": "stream",
     "text": [
      "Tests Passed\n"
     ]
    }
   ],
   "source": [
    "def fully_conn(x_tensor, num_outputs):\n",
    "    \"\"\"\n",
    "    Apply a fully connected layer to x_tensor using weight and bias\n",
    "    : x_tensor: A 2-D tensor where the first dimension is batch size.\n",
    "    : num_outputs: The number of output that the new tensor should be.\n",
    "    : return: A 2-D tensor where the second dimension is num_outputs.\n",
    "    \"\"\"\n",
    "    # TODO: Implement Function\n",
    "    weights = tf.Variable(tf.random_normal(\n",
    "        [x_tensor.get_shape().as_list()[-1], num_outputs],\n",
    "        stddev=0.1))\n",
    "    biases = tf.Variable(tf.random_normal([num_outputs]))\n",
    "    \n",
    "    fcl = tf.add(tf.matmul(x_tensor, weights), biases)\n",
    "    return tf.nn.relu(fcl)\n",
    "\n",
    "\n",
    "\"\"\"\n",
    "DON'T MODIFY ANYTHING IN THIS CELL THAT IS BELOW THIS LINE\n",
    "\"\"\"\n",
    "tests.test_fully_conn(fully_conn)"
   ]
  },
  {
   "cell_type": "markdown",
   "metadata": {},
   "source": [
    "### Output Layer\n",
    "Implement the `output` function to apply a fully connected layer to `x_tensor` with the shape (*Batch Size*, *num_outputs*). Shortcut option: you can use classes from the [TensorFlow Layers](https://www.tensorflow.org/api_docs/python/tf/layers) or [TensorFlow Layers (contrib)](https://www.tensorflow.org/api_guides/python/contrib.layers) packages for this layer. For more of a challenge, only use other TensorFlow packages.\n",
    "\n",
    "**Note:** Activation, softmax, or cross entropy should **not** be applied to this."
   ]
  },
  {
   "cell_type": "code",
   "execution_count": 11,
   "metadata": {},
   "outputs": [
    {
     "name": "stdout",
     "output_type": "stream",
     "text": [
      "Tests Passed\n"
     ]
    }
   ],
   "source": [
    "def output(x_tensor, num_outputs):\n",
    "    \"\"\"\n",
    "    Apply a output layer to x_tensor using weight and bias\n",
    "    : x_tensor: A 2-D tensor where the first dimension is batch size.\n",
    "    : num_outputs: The number of output that the new tensor should be.\n",
    "    : return: A 2-D tensor where the second dimension is num_outputs.\n",
    "    \"\"\"\n",
    "    # TODO: Implement Function\n",
    "    weights = tf.Variable(tf.truncated_normal(\n",
    "        [x_tensor.get_shape().as_list()[-1], num_outputs],\n",
    "        stddev=0.1))\n",
    "    biases = tf.Variable(tf.truncated_normal([num_outputs]))\n",
    "    \n",
    "    return tf.add(tf.matmul(x_tensor, weights), biases)\n",
    "\n",
    "    # out = tf.add(tf.matmul(fc1, weights['out']), biases['out'])\n",
    "\n",
    "\n",
    "\"\"\"\n",
    "DON'T MODIFY ANYTHING IN THIS CELL THAT IS BELOW THIS LINE\n",
    "\"\"\"\n",
    "tests.test_output(output)"
   ]
  },
  {
   "cell_type": "markdown",
   "metadata": {},
   "source": [
    "### Create Convolutional Model\n",
    "Implement the function `conv_net` to create a convolutional neural network model. The function takes in a batch of images, `x`, and outputs logits.  Use the layers you created above to create this model:\n",
    "\n",
    "* Apply 1, 2, or 3 Convolution and Max Pool layers\n",
    "* Apply a Flatten Layer\n",
    "* Apply 1, 2, or 3 Fully Connected Layers\n",
    "* Apply an Output Layer\n",
    "* Return the output\n",
    "* Apply [TensorFlow's Dropout](https://www.tensorflow.org/api_docs/python/tf/nn/dropout) to one or more layers in the model using `keep_prob`. "
   ]
  },
  {
   "cell_type": "code",
   "execution_count": 12,
   "metadata": {},
   "outputs": [
    {
     "name": "stdout",
     "output_type": "stream",
     "text": [
      "Neural Network Built!\n"
     ]
    }
   ],
   "source": [
    "def conv_net(x, keep_prob):\n",
    "    \"\"\"\n",
    "    Create a convolutional neural network model\n",
    "    : x: Placeholder tensor that holds image data.\n",
    "    : keep_prob: Placeholder tensor that hold dropout keep probability.\n",
    "    : return: Tensor that represents logits\n",
    "    \"\"\"\n",
    "    # TODO: Apply 1, 2, or 3 Convolution and Max Pool layers\n",
    "    #    Play around with different number of outputs, kernel size and stride\n",
    "    # Function Definition from Above:\n",
    "    #    conv2d_maxpool(x_tensor, conv_num_outputs, conv_ksize, conv_strides, pool_ksize, pool_strides)\n",
    "    conv = conv2d_maxpool(\n",
    "        x,\n",
    "        conv_num_outputs=32,\n",
    "        conv_ksize=(4,4),\n",
    "        conv_strides=(1,1),\n",
    "        pool_ksize=(4,4),\n",
    "        pool_strides=(1,1)\n",
    "    )\n",
    "    \n",
    "    conv = conv2d_maxpool(\n",
    "        x,\n",
    "        conv_num_outputs=16,\n",
    "        conv_ksize=(4,4),\n",
    "        conv_strides=(1,1),\n",
    "        pool_ksize=(4,4),\n",
    "        pool_strides=(1,1)\n",
    "    )\n",
    "    \n",
    "    conv = tf.nn.dropout(conv, keep_prob)\n",
    "    \n",
    "\n",
    "    # TODO: Apply a Flatten Layer\n",
    "    # Function Definition from Above:\n",
    "    conv = flatten(conv)\n",
    "    \n",
    "\n",
    "    # TODO: Apply 1, 2, or 3 Fully Connected Layers\n",
    "    #    Play around with different number of outputs\n",
    "    # Function Definition from Above:\n",
    "    conv = fully_conn(conv, 256)\n",
    "    conv = fully_conn(conv, 128)\n",
    "    cconv = fully_conn(conv, 64)\n",
    "    \n",
    "    conv = tf.nn.dropout(conv, keep_prob)\n",
    "    \n",
    "    # TODO: Apply an Output Layer\n",
    "    #    Set this to the number of classes\n",
    "    # Function Definition from Above:\n",
    "    conv = output(conv, 10) # 10 outputs for one_hot\n",
    "    \n",
    "    \n",
    "    # TODO: return output\n",
    "    return conv\n",
    "\n",
    "\n",
    "\"\"\"\n",
    "DON'T MODIFY ANYTHING IN THIS CELL THAT IS BELOW THIS LINE\n",
    "\"\"\"\n",
    "\n",
    "##############################\n",
    "## Build the Neural Network ##\n",
    "##############################\n",
    "\n",
    "# Remove previous weights, bias, inputs, etc..\n",
    "tf.reset_default_graph()\n",
    "\n",
    "# Inputs\n",
    "x = neural_net_image_input((32, 32, 3))\n",
    "y = neural_net_label_input(10)\n",
    "keep_prob = neural_net_keep_prob_input()\n",
    "\n",
    "# Model\n",
    "logits = conv_net(x, keep_prob)\n",
    "\n",
    "# Name logits Tensor, so that is can be loaded from disk after training\n",
    "logits = tf.identity(logits, name='logits')\n",
    "\n",
    "# Loss and Optimizer\n",
    "cost = tf.reduce_mean(tf.nn.softmax_cross_entropy_with_logits(logits=logits, labels=y))\n",
    "optimizer = tf.train.AdamOptimizer().minimize(cost)\n",
    "\n",
    "# Accuracy\n",
    "correct_pred = tf.equal(tf.argmax(logits, 1), tf.argmax(y, 1))\n",
    "accuracy = tf.reduce_mean(tf.cast(correct_pred, tf.float32), name='accuracy')\n",
    "\n",
    "tests.test_conv_net(conv_net)"
   ]
  },
  {
   "cell_type": "markdown",
   "metadata": {},
   "source": [
    "## Train the Neural Network\n",
    "### Single Optimization\n",
    "Implement the function `train_neural_network` to do a single optimization.  The optimization should use `optimizer` to optimize in `session` with a `feed_dict` of the following:\n",
    "* `x` for image input\n",
    "* `y` for labels\n",
    "* `keep_prob` for keep probability for dropout\n",
    "\n",
    "This function will be called for each batch, so `tf.global_variables_initializer()` has already been called.\n",
    "\n",
    "Note: Nothing needs to be returned. This function is only optimizing the neural network."
   ]
  },
  {
   "cell_type": "code",
   "execution_count": 13,
   "metadata": {},
   "outputs": [
    {
     "name": "stdout",
     "output_type": "stream",
     "text": [
      "Tests Passed\n"
     ]
    }
   ],
   "source": [
    "def train_neural_network(session, optimizer, keep_probability, feature_batch, label_batch):\n",
    "    \"\"\"\n",
    "    Optimize the session on a batch of images and labels\n",
    "    : session: Current TensorFlow session\n",
    "    : optimizer: TensorFlow optimizer function\n",
    "    : keep_probability: keep probability\n",
    "    : feature_batch: Batch of Numpy image data\n",
    "    : label_batch: Batch of Numpy label data\n",
    "    \"\"\"\n",
    "    # TODO: Implement Function\n",
    "    session.run(optimizer, feed_dict={x:feature_batch, y:label_batch, keep_prob:keep_probability})\n",
    "\n",
    "\n",
    "\"\"\"\n",
    "DON'T MODIFY ANYTHING IN THIS CELL THAT IS BELOW THIS LINE\n",
    "\"\"\"\n",
    "tests.test_train_nn(train_neural_network)"
   ]
  },
  {
   "cell_type": "markdown",
   "metadata": {},
   "source": [
    "### Show Stats\n",
    "Implement the function `print_stats` to print loss and validation accuracy.  Use the global variables `valid_features` and `valid_labels` to calculate validation accuracy.  Use a keep probability of `1.0` to calculate the loss and validation accuracy."
   ]
  },
  {
   "cell_type": "code",
   "execution_count": 14,
   "metadata": {
    "collapsed": true
   },
   "outputs": [],
   "source": [
    "def print_stats(session, feature_batch, label_batch, cost, accuracy):\n",
    "    \"\"\"\n",
    "    Print information about loss and validation accuracy\n",
    "    : session: Current TensorFlow session\n",
    "    : feature_batch: Batch of Numpy image data\n",
    "    : label_batch: Batch of Numpy label data\n",
    "    : cost: TensorFlow cost function\n",
    "    : accuracy: TensorFlow accuracy function\n",
    "    \"\"\"\n",
    "    # TODO: Implement Function\n",
    "    loss = session.run(cost, feed_dict={x:feature_batch, y:label_batch, keep_prob:1.0})\n",
    "    validation = sess.run(accuracy, feed_dict={\n",
    "                x: valid_features,\n",
    "                y: valid_labels,\n",
    "                keep_prob: 1.0})\n",
    "    print('Loss: {:>10.4f} Validation: {:.6f}'.format(\n",
    "                loss,\n",
    "                validation))"
   ]
  },
  {
   "cell_type": "markdown",
   "metadata": {},
   "source": [
    "### Hyperparameters\n",
    "Tune the following parameters:\n",
    "* Set `epochs` to the number of iterations until the network stops learning or start overfitting\n",
    "* Set `batch_size` to the highest number that your machine has memory for.  Most people set them to common sizes of memory:\n",
    " * 64\n",
    " * 128\n",
    " * 256\n",
    " * ...\n",
    "* Set `keep_probability` to the probability of keeping a node using dropout"
   ]
  },
  {
   "cell_type": "code",
   "execution_count": 17,
   "metadata": {
    "collapsed": true
   },
   "outputs": [],
   "source": [
    "# TODO: Tune Parameters\n",
    "epochs = 40\n",
    "batch_size = 512\n",
    "keep_probability = 0.7"
   ]
  },
  {
   "cell_type": "markdown",
   "metadata": {},
   "source": [
    "### Train on a Single CIFAR-10 Batch\n",
    "Instead of training the neural network on all the CIFAR-10 batches of data, let's use a single batch. This should save time while you iterate on the model to get a better accuracy.  Once the final validation accuracy is 50% or greater, run the model on all the data in the next section."
   ]
  },
  {
   "cell_type": "code",
   "execution_count": 18,
   "metadata": {},
   "outputs": [
    {
     "name": "stdout",
     "output_type": "stream",
     "text": [
      "Checking the Training on a Single Batch...\n",
      "Epoch  1, CIFAR-10 Batch 1: Loss:     2.3504 Validation: 0.102600\n",
      "Epoch  2, CIFAR-10 Batch 1: Loss:     2.2661 Validation: 0.184400\n",
      "Epoch  3, CIFAR-10 Batch 1: Loss:     2.1727 Validation: 0.236400\n",
      "Epoch  4, CIFAR-10 Batch 1: Loss:     2.1146 Validation: 0.252600\n",
      "Epoch  5, CIFAR-10 Batch 1: Loss:     2.0468 Validation: 0.283200\n",
      "Epoch  6, CIFAR-10 Batch 1: Loss:     2.0020 Validation: 0.302600\n",
      "Epoch  7, CIFAR-10 Batch 1: Loss:     1.9420 Validation: 0.324400\n",
      "Epoch  8, CIFAR-10 Batch 1: Loss:     1.8926 Validation: 0.354800\n",
      "Epoch  9, CIFAR-10 Batch 1: Loss:     1.8452 Validation: 0.366400\n",
      "Epoch 10, CIFAR-10 Batch 1: Loss:     1.7907 Validation: 0.380200\n",
      "Epoch 11, CIFAR-10 Batch 1: Loss:     1.7582 Validation: 0.384800\n",
      "Epoch 12, CIFAR-10 Batch 1: Loss:     1.7198 Validation: 0.401800\n",
      "Epoch 13, CIFAR-10 Batch 1: Loss:     1.7049 Validation: 0.403200\n",
      "Epoch 14, CIFAR-10 Batch 1: Loss:     1.6714 Validation: 0.409800\n",
      "Epoch 15, CIFAR-10 Batch 1: Loss:     1.6326 Validation: 0.418600\n",
      "Epoch 16, CIFAR-10 Batch 1: Loss:     1.5782 Validation: 0.434600\n",
      "Epoch 17, CIFAR-10 Batch 1: Loss:     1.5750 Validation: 0.431800\n",
      "Epoch 18, CIFAR-10 Batch 1: Loss:     1.5316 Validation: 0.442000\n",
      "Epoch 19, CIFAR-10 Batch 1: Loss:     1.5030 Validation: 0.452200\n",
      "Epoch 20, CIFAR-10 Batch 1: Loss:     1.4730 Validation: 0.452200\n",
      "Epoch 21, CIFAR-10 Batch 1: Loss:     1.4528 Validation: 0.456600\n",
      "Epoch 22, CIFAR-10 Batch 1: Loss:     1.4306 Validation: 0.466000\n",
      "Epoch 23, CIFAR-10 Batch 1: Loss:     1.4093 Validation: 0.463800\n",
      "Epoch 24, CIFAR-10 Batch 1: Loss:     1.3836 Validation: 0.471800\n",
      "Epoch 25, CIFAR-10 Batch 1: Loss:     1.3658 Validation: 0.473600\n",
      "Epoch 26, CIFAR-10 Batch 1: Loss:     1.3509 Validation: 0.474600\n",
      "Epoch 27, CIFAR-10 Batch 1: Loss:     1.3152 Validation: 0.478400\n",
      "Epoch 28, CIFAR-10 Batch 1: Loss:     1.2878 Validation: 0.487200\n",
      "Epoch 29, CIFAR-10 Batch 1: Loss:     1.2680 Validation: 0.487000\n",
      "Epoch 30, CIFAR-10 Batch 1: Loss:     1.2831 Validation: 0.481200\n",
      "Epoch 31, CIFAR-10 Batch 1: Loss:     1.2541 Validation: 0.486200\n",
      "Epoch 32, CIFAR-10 Batch 1: Loss:     1.2216 Validation: 0.495200\n",
      "Epoch 33, CIFAR-10 Batch 1: Loss:     1.1964 Validation: 0.493800\n",
      "Epoch 34, CIFAR-10 Batch 1: Loss:     1.1784 Validation: 0.501000\n",
      "Epoch 35, CIFAR-10 Batch 1: Loss:     1.1613 Validation: 0.501600\n",
      "Epoch 36, CIFAR-10 Batch 1: Loss:     1.1284 Validation: 0.505000\n",
      "Epoch 37, CIFAR-10 Batch 1: Loss:     1.1097 Validation: 0.505200\n",
      "Epoch 38, CIFAR-10 Batch 1: Loss:     1.1063 Validation: 0.505400\n",
      "Epoch 39, CIFAR-10 Batch 1: Loss:     1.0558 Validation: 0.515400\n",
      "Epoch 40, CIFAR-10 Batch 1: Loss:     1.0366 Validation: 0.512600\n"
     ]
    }
   ],
   "source": [
    "\"\"\"\n",
    "DON'T MODIFY ANYTHING IN THIS CELL\n",
    "\"\"\"\n",
    "print('Checking the Training on a Single Batch...')\n",
    "with tf.Session() as sess:\n",
    "    # Initializing the variables\n",
    "    sess.run(tf.global_variables_initializer())\n",
    "    \n",
    "    # Training cycle\n",
    "    for epoch in range(epochs):\n",
    "        batch_i = 1\n",
    "        for batch_features, batch_labels in helper.load_preprocess_training_batch(batch_i, batch_size):\n",
    "            train_neural_network(sess, optimizer, keep_probability, batch_features, batch_labels)\n",
    "        print('Epoch {:>2}, CIFAR-10 Batch {}: '.format(epoch + 1, batch_i), end='')\n",
    "        print_stats(sess, batch_features, batch_labels, cost, accuracy)"
   ]
  },
  {
   "cell_type": "markdown",
   "metadata": {},
   "source": [
    "### Fully Train the Model\n",
    "Now that you got a good accuracy with a single CIFAR-10 batch, try it with all five batches."
   ]
  },
  {
   "cell_type": "code",
   "execution_count": 19,
   "metadata": {},
   "outputs": [
    {
     "name": "stdout",
     "output_type": "stream",
     "text": [
      "Training...\n",
      "Epoch  1, CIFAR-10 Batch 1:  Loss:     2.3168 Validation: 0.120200\n",
      "Epoch  1, CIFAR-10 Batch 2:  Loss:     2.3169 Validation: 0.084400\n",
      "Epoch  1, CIFAR-10 Batch 3:  Loss:     2.2979 Validation: 0.099600\n",
      "Epoch  1, CIFAR-10 Batch 4:  Loss:     2.2715 Validation: 0.102200\n",
      "Epoch  1, CIFAR-10 Batch 5:  Loss:     2.2321 Validation: 0.153200\n",
      "Epoch  2, CIFAR-10 Batch 1:  Loss:     2.2178 Validation: 0.181800\n",
      "Epoch  2, CIFAR-10 Batch 2:  Loss:     2.1397 Validation: 0.205200\n",
      "Epoch  2, CIFAR-10 Batch 3:  Loss:     2.0309 Validation: 0.219800\n",
      "Epoch  2, CIFAR-10 Batch 4:  Loss:     1.9721 Validation: 0.235000\n",
      "Epoch  2, CIFAR-10 Batch 5:  Loss:     1.9787 Validation: 0.249400\n",
      "Epoch  3, CIFAR-10 Batch 1:  Loss:     1.9738 Validation: 0.277200\n",
      "Epoch  3, CIFAR-10 Batch 2:  Loss:     1.8902 Validation: 0.285800\n",
      "Epoch  3, CIFAR-10 Batch 3:  Loss:     1.8279 Validation: 0.288600\n",
      "Epoch  3, CIFAR-10 Batch 4:  Loss:     1.8402 Validation: 0.272800\n",
      "Epoch  3, CIFAR-10 Batch 5:  Loss:     1.8606 Validation: 0.301600\n",
      "Epoch  4, CIFAR-10 Batch 1:  Loss:     1.9070 Validation: 0.314000\n",
      "Epoch  4, CIFAR-10 Batch 2:  Loss:     1.8018 Validation: 0.309400\n",
      "Epoch  4, CIFAR-10 Batch 3:  Loss:     1.7053 Validation: 0.335200\n",
      "Epoch  4, CIFAR-10 Batch 4:  Loss:     1.6990 Validation: 0.355800\n",
      "Epoch  4, CIFAR-10 Batch 5:  Loss:     1.7686 Validation: 0.331800\n",
      "Epoch  5, CIFAR-10 Batch 1:  Loss:     1.8418 Validation: 0.342600\n",
      "Epoch  5, CIFAR-10 Batch 2:  Loss:     1.7510 Validation: 0.330400\n",
      "Epoch  5, CIFAR-10 Batch 3:  Loss:     1.6033 Validation: 0.358800\n",
      "Epoch  5, CIFAR-10 Batch 4:  Loss:     1.6224 Validation: 0.376200\n",
      "Epoch  5, CIFAR-10 Batch 5:  Loss:     1.7273 Validation: 0.371600\n",
      "Epoch  6, CIFAR-10 Batch 1:  Loss:     1.7682 Validation: 0.388000\n",
      "Epoch  6, CIFAR-10 Batch 2:  Loss:     1.6597 Validation: 0.377200\n",
      "Epoch  6, CIFAR-10 Batch 3:  Loss:     1.5271 Validation: 0.397800\n",
      "Epoch  6, CIFAR-10 Batch 4:  Loss:     1.5299 Validation: 0.402400\n",
      "Epoch  6, CIFAR-10 Batch 5:  Loss:     1.6621 Validation: 0.410000\n",
      "Epoch  7, CIFAR-10 Batch 1:  Loss:     1.7064 Validation: 0.411200\n",
      "Epoch  7, CIFAR-10 Batch 2:  Loss:     1.5972 Validation: 0.398400\n",
      "Epoch  7, CIFAR-10 Batch 3:  Loss:     1.4573 Validation: 0.416600\n",
      "Epoch  7, CIFAR-10 Batch 4:  Loss:     1.4543 Validation: 0.424400\n",
      "Epoch  7, CIFAR-10 Batch 5:  Loss:     1.5772 Validation: 0.426000\n",
      "Epoch  8, CIFAR-10 Batch 1:  Loss:     1.6388 Validation: 0.433000\n",
      "Epoch  8, CIFAR-10 Batch 2:  Loss:     1.5466 Validation: 0.436600\n",
      "Epoch  8, CIFAR-10 Batch 3:  Loss:     1.3955 Validation: 0.430800\n",
      "Epoch  8, CIFAR-10 Batch 4:  Loss:     1.4024 Validation: 0.442400\n",
      "Epoch  8, CIFAR-10 Batch 5:  Loss:     1.5136 Validation: 0.452000\n",
      "Epoch  9, CIFAR-10 Batch 1:  Loss:     1.5854 Validation: 0.446200\n",
      "Epoch  9, CIFAR-10 Batch 2:  Loss:     1.4699 Validation: 0.460200\n",
      "Epoch  9, CIFAR-10 Batch 3:  Loss:     1.3193 Validation: 0.459000\n",
      "Epoch  9, CIFAR-10 Batch 4:  Loss:     1.3488 Validation: 0.470000\n",
      "Epoch  9, CIFAR-10 Batch 5:  Loss:     1.4433 Validation: 0.481800\n",
      "Epoch 10, CIFAR-10 Batch 1:  Loss:     1.4993 Validation: 0.481800\n",
      "Epoch 10, CIFAR-10 Batch 2:  Loss:     1.4273 Validation: 0.471600\n",
      "Epoch 10, CIFAR-10 Batch 3:  Loss:     1.2726 Validation: 0.487000\n",
      "Epoch 10, CIFAR-10 Batch 4:  Loss:     1.2987 Validation: 0.491000\n",
      "Epoch 10, CIFAR-10 Batch 5:  Loss:     1.3777 Validation: 0.496400\n",
      "Epoch 11, CIFAR-10 Batch 1:  Loss:     1.4705 Validation: 0.491200\n",
      "Epoch 11, CIFAR-10 Batch 2:  Loss:     1.3511 Validation: 0.495600\n",
      "Epoch 11, CIFAR-10 Batch 3:  Loss:     1.2163 Validation: 0.510600\n",
      "Epoch 11, CIFAR-10 Batch 4:  Loss:     1.2510 Validation: 0.508800\n",
      "Epoch 11, CIFAR-10 Batch 5:  Loss:     1.3139 Validation: 0.514000\n",
      "Epoch 12, CIFAR-10 Batch 1:  Loss:     1.4032 Validation: 0.522000\n",
      "Epoch 12, CIFAR-10 Batch 2:  Loss:     1.2794 Validation: 0.524000\n",
      "Epoch 12, CIFAR-10 Batch 3:  Loss:     1.1767 Validation: 0.527000\n",
      "Epoch 12, CIFAR-10 Batch 4:  Loss:     1.1889 Validation: 0.528600\n",
      "Epoch 12, CIFAR-10 Batch 5:  Loss:     1.2591 Validation: 0.519400\n",
      "Epoch 13, CIFAR-10 Batch 1:  Loss:     1.3667 Validation: 0.535400\n",
      "Epoch 13, CIFAR-10 Batch 2:  Loss:     1.2447 Validation: 0.533600\n",
      "Epoch 13, CIFAR-10 Batch 3:  Loss:     1.1596 Validation: 0.531800\n",
      "Epoch 13, CIFAR-10 Batch 4:  Loss:     1.1902 Validation: 0.543800\n",
      "Epoch 13, CIFAR-10 Batch 5:  Loss:     1.1996 Validation: 0.539800\n",
      "Epoch 14, CIFAR-10 Batch 1:  Loss:     1.3332 Validation: 0.534600\n",
      "Epoch 14, CIFAR-10 Batch 2:  Loss:     1.1848 Validation: 0.547000\n",
      "Epoch 14, CIFAR-10 Batch 3:  Loss:     1.1424 Validation: 0.542800\n",
      "Epoch 14, CIFAR-10 Batch 4:  Loss:     1.1278 Validation: 0.547400\n",
      "Epoch 14, CIFAR-10 Batch 5:  Loss:     1.1688 Validation: 0.546800\n",
      "Epoch 15, CIFAR-10 Batch 1:  Loss:     1.2545 Validation: 0.548800\n",
      "Epoch 15, CIFAR-10 Batch 2:  Loss:     1.1364 Validation: 0.555800\n",
      "Epoch 15, CIFAR-10 Batch 3:  Loss:     1.1093 Validation: 0.554800\n",
      "Epoch 15, CIFAR-10 Batch 4:  Loss:     1.1069 Validation: 0.561000\n",
      "Epoch 15, CIFAR-10 Batch 5:  Loss:     1.1319 Validation: 0.556000\n",
      "Epoch 16, CIFAR-10 Batch 1:  Loss:     1.2433 Validation: 0.560000\n",
      "Epoch 16, CIFAR-10 Batch 2:  Loss:     1.1040 Validation: 0.563600\n",
      "Epoch 16, CIFAR-10 Batch 3:  Loss:     1.0791 Validation: 0.556200\n",
      "Epoch 16, CIFAR-10 Batch 4:  Loss:     1.0680 Validation: 0.567200\n",
      "Epoch 16, CIFAR-10 Batch 5:  Loss:     1.0988 Validation: 0.561800\n",
      "Epoch 17, CIFAR-10 Batch 1:  Loss:     1.1846 Validation: 0.565600\n",
      "Epoch 17, CIFAR-10 Batch 2:  Loss:     1.0724 Validation: 0.567600\n",
      "Epoch 17, CIFAR-10 Batch 3:  Loss:     1.0478 Validation: 0.566800\n",
      "Epoch 17, CIFAR-10 Batch 4:  Loss:     1.0183 Validation: 0.568200\n",
      "Epoch 17, CIFAR-10 Batch 5:  Loss:     1.0739 Validation: 0.571200\n",
      "Epoch 18, CIFAR-10 Batch 1:  Loss:     1.1551 Validation: 0.570600\n",
      "Epoch 18, CIFAR-10 Batch 2:  Loss:     1.0405 Validation: 0.585200\n",
      "Epoch 18, CIFAR-10 Batch 3:  Loss:     1.0248 Validation: 0.576600\n",
      "Epoch 18, CIFAR-10 Batch 4:  Loss:     1.0154 Validation: 0.573200\n",
      "Epoch 18, CIFAR-10 Batch 5:  Loss:     1.0362 Validation: 0.581400\n",
      "Epoch 19, CIFAR-10 Batch 1:  Loss:     1.1395 Validation: 0.577400\n",
      "Epoch 19, CIFAR-10 Batch 2:  Loss:     1.0290 Validation: 0.575600\n",
      "Epoch 19, CIFAR-10 Batch 3:  Loss:     0.9908 Validation: 0.573400\n",
      "Epoch 19, CIFAR-10 Batch 4:  Loss:     0.9846 Validation: 0.582000\n",
      "Epoch 19, CIFAR-10 Batch 5:  Loss:     1.0186 Validation: 0.589600\n",
      "Epoch 20, CIFAR-10 Batch 1:  Loss:     1.1027 Validation: 0.585800\n",
      "Epoch 20, CIFAR-10 Batch 2:  Loss:     0.9773 Validation: 0.584800\n",
      "Epoch 20, CIFAR-10 Batch 3:  Loss:     0.9586 Validation: 0.590800\n",
      "Epoch 20, CIFAR-10 Batch 4:  Loss:     0.9451 Validation: 0.588200\n",
      "Epoch 20, CIFAR-10 Batch 5:  Loss:     0.9795 Validation: 0.590400\n",
      "Epoch 21, CIFAR-10 Batch 1:  Loss:     1.0813 Validation: 0.588200\n",
      "Epoch 21, CIFAR-10 Batch 2:  Loss:     0.9871 Validation: 0.589000\n",
      "Epoch 21, CIFAR-10 Batch 3:  Loss:     0.9363 Validation: 0.594000\n",
      "Epoch 21, CIFAR-10 Batch 4:  Loss:     0.9195 Validation: 0.596600\n",
      "Epoch 21, CIFAR-10 Batch 5:  Loss:     0.9420 Validation: 0.600600\n",
      "Epoch 22, CIFAR-10 Batch 1:  Loss:     1.0274 Validation: 0.598800\n",
      "Epoch 22, CIFAR-10 Batch 2:  Loss:     0.9464 Validation: 0.597200\n",
      "Epoch 22, CIFAR-10 Batch 3:  Loss:     0.9135 Validation: 0.605800\n",
      "Epoch 22, CIFAR-10 Batch 4:  Loss:     0.8797 Validation: 0.602600\n",
      "Epoch 22, CIFAR-10 Batch 5:  Loss:     0.9220 Validation: 0.608800\n",
      "Epoch 23, CIFAR-10 Batch 1:  Loss:     0.9989 Validation: 0.603800\n",
      "Epoch 23, CIFAR-10 Batch 2:  Loss:     0.9449 Validation: 0.599200\n",
      "Epoch 23, CIFAR-10 Batch 3:  Loss:     0.9092 Validation: 0.609400\n",
      "Epoch 23, CIFAR-10 Batch 4:  Loss:     0.8601 Validation: 0.605800\n",
      "Epoch 23, CIFAR-10 Batch 5:  Loss:     0.8841 Validation: 0.609000\n",
      "Epoch 24, CIFAR-10 Batch 1:  Loss:     0.9744 Validation: 0.607400\n",
      "Epoch 24, CIFAR-10 Batch 2:  Loss:     0.9001 Validation: 0.611000\n",
      "Epoch 24, CIFAR-10 Batch 3:  Loss:     0.8478 Validation: 0.613000\n",
      "Epoch 24, CIFAR-10 Batch 4:  Loss:     0.8191 Validation: 0.607600\n",
      "Epoch 24, CIFAR-10 Batch 5:  Loss:     0.8484 Validation: 0.615000\n",
      "Epoch 25, CIFAR-10 Batch 1:  Loss:     0.9510 Validation: 0.608200\n",
      "Epoch 25, CIFAR-10 Batch 2:  Loss:     0.8706 Validation: 0.616200\n"
     ]
    },
    {
     "name": "stdout",
     "output_type": "stream",
     "text": [
      "Epoch 25, CIFAR-10 Batch 3:  Loss:     0.8298 Validation: 0.616800\n",
      "Epoch 25, CIFAR-10 Batch 4:  Loss:     0.8025 Validation: 0.615600\n",
      "Epoch 25, CIFAR-10 Batch 5:  Loss:     0.8227 Validation: 0.618600\n",
      "Epoch 26, CIFAR-10 Batch 1:  Loss:     0.9151 Validation: 0.621800\n",
      "Epoch 26, CIFAR-10 Batch 2:  Loss:     0.8517 Validation: 0.616400\n",
      "Epoch 26, CIFAR-10 Batch 3:  Loss:     0.8121 Validation: 0.616400\n",
      "Epoch 26, CIFAR-10 Batch 4:  Loss:     0.7875 Validation: 0.615200\n",
      "Epoch 26, CIFAR-10 Batch 5:  Loss:     0.8119 Validation: 0.616400\n",
      "Epoch 27, CIFAR-10 Batch 1:  Loss:     0.8818 Validation: 0.624600\n",
      "Epoch 27, CIFAR-10 Batch 2:  Loss:     0.8334 Validation: 0.618000\n",
      "Epoch 27, CIFAR-10 Batch 3:  Loss:     0.7976 Validation: 0.622000\n",
      "Epoch 27, CIFAR-10 Batch 4:  Loss:     0.7473 Validation: 0.619600\n",
      "Epoch 27, CIFAR-10 Batch 5:  Loss:     0.7815 Validation: 0.616000\n",
      "Epoch 28, CIFAR-10 Batch 1:  Loss:     0.8774 Validation: 0.620400\n",
      "Epoch 28, CIFAR-10 Batch 2:  Loss:     0.8237 Validation: 0.614600\n",
      "Epoch 28, CIFAR-10 Batch 3:  Loss:     0.7675 Validation: 0.623800\n",
      "Epoch 28, CIFAR-10 Batch 4:  Loss:     0.7407 Validation: 0.620200\n",
      "Epoch 28, CIFAR-10 Batch 5:  Loss:     0.7592 Validation: 0.615200\n",
      "Epoch 29, CIFAR-10 Batch 1:  Loss:     0.8403 Validation: 0.627200\n",
      "Epoch 29, CIFAR-10 Batch 2:  Loss:     0.8037 Validation: 0.625400\n",
      "Epoch 29, CIFAR-10 Batch 3:  Loss:     0.7429 Validation: 0.627400\n",
      "Epoch 29, CIFAR-10 Batch 4:  Loss:     0.7335 Validation: 0.621200\n",
      "Epoch 29, CIFAR-10 Batch 5:  Loss:     0.7364 Validation: 0.628400\n",
      "Epoch 30, CIFAR-10 Batch 1:  Loss:     0.8034 Validation: 0.630000\n",
      "Epoch 30, CIFAR-10 Batch 2:  Loss:     0.7683 Validation: 0.629200\n",
      "Epoch 30, CIFAR-10 Batch 3:  Loss:     0.7183 Validation: 0.627000\n",
      "Epoch 30, CIFAR-10 Batch 4:  Loss:     0.6992 Validation: 0.626800\n",
      "Epoch 30, CIFAR-10 Batch 5:  Loss:     0.7238 Validation: 0.627600\n",
      "Epoch 31, CIFAR-10 Batch 1:  Loss:     0.8093 Validation: 0.626600\n",
      "Epoch 31, CIFAR-10 Batch 2:  Loss:     0.7672 Validation: 0.632200\n",
      "Epoch 31, CIFAR-10 Batch 3:  Loss:     0.6832 Validation: 0.632800\n",
      "Epoch 31, CIFAR-10 Batch 4:  Loss:     0.6771 Validation: 0.628600\n",
      "Epoch 31, CIFAR-10 Batch 5:  Loss:     0.6869 Validation: 0.629600\n",
      "Epoch 32, CIFAR-10 Batch 1:  Loss:     0.7569 Validation: 0.635600\n",
      "Epoch 32, CIFAR-10 Batch 2:  Loss:     0.7255 Validation: 0.635800\n",
      "Epoch 32, CIFAR-10 Batch 3:  Loss:     0.6707 Validation: 0.638000\n",
      "Epoch 32, CIFAR-10 Batch 4:  Loss:     0.6525 Validation: 0.627200\n",
      "Epoch 32, CIFAR-10 Batch 5:  Loss:     0.6837 Validation: 0.629200\n",
      "Epoch 33, CIFAR-10 Batch 1:  Loss:     0.7595 Validation: 0.629000\n",
      "Epoch 33, CIFAR-10 Batch 2:  Loss:     0.7106 Validation: 0.637000\n",
      "Epoch 33, CIFAR-10 Batch 3:  Loss:     0.6532 Validation: 0.639200\n",
      "Epoch 33, CIFAR-10 Batch 4:  Loss:     0.6554 Validation: 0.629400\n",
      "Epoch 33, CIFAR-10 Batch 5:  Loss:     0.6415 Validation: 0.632400\n",
      "Epoch 34, CIFAR-10 Batch 1:  Loss:     0.7201 Validation: 0.638800\n",
      "Epoch 34, CIFAR-10 Batch 2:  Loss:     0.6987 Validation: 0.633600\n",
      "Epoch 34, CIFAR-10 Batch 3:  Loss:     0.6276 Validation: 0.639800\n",
      "Epoch 34, CIFAR-10 Batch 4:  Loss:     0.6251 Validation: 0.638800\n",
      "Epoch 34, CIFAR-10 Batch 5:  Loss:     0.6076 Validation: 0.638200\n",
      "Epoch 35, CIFAR-10 Batch 1:  Loss:     0.7011 Validation: 0.647000\n",
      "Epoch 35, CIFAR-10 Batch 2:  Loss:     0.6789 Validation: 0.640400\n",
      "Epoch 35, CIFAR-10 Batch 3:  Loss:     0.5978 Validation: 0.642600\n",
      "Epoch 35, CIFAR-10 Batch 4:  Loss:     0.6041 Validation: 0.638000\n",
      "Epoch 35, CIFAR-10 Batch 5:  Loss:     0.5993 Validation: 0.634000\n",
      "Epoch 36, CIFAR-10 Batch 1:  Loss:     0.6747 Validation: 0.644800\n",
      "Epoch 36, CIFAR-10 Batch 2:  Loss:     0.6642 Validation: 0.646000\n",
      "Epoch 36, CIFAR-10 Batch 3:  Loss:     0.5885 Validation: 0.646400\n",
      "Epoch 36, CIFAR-10 Batch 4:  Loss:     0.6127 Validation: 0.636400\n",
      "Epoch 36, CIFAR-10 Batch 5:  Loss:     0.5692 Validation: 0.642000\n",
      "Epoch 37, CIFAR-10 Batch 1:  Loss:     0.6701 Validation: 0.645400\n",
      "Epoch 37, CIFAR-10 Batch 2:  Loss:     0.6492 Validation: 0.637400\n",
      "Epoch 37, CIFAR-10 Batch 3:  Loss:     0.5841 Validation: 0.642000\n",
      "Epoch 37, CIFAR-10 Batch 4:  Loss:     0.5705 Validation: 0.645600\n",
      "Epoch 37, CIFAR-10 Batch 5:  Loss:     0.5657 Validation: 0.641800\n",
      "Epoch 38, CIFAR-10 Batch 1:  Loss:     0.6274 Validation: 0.649600\n",
      "Epoch 38, CIFAR-10 Batch 2:  Loss:     0.6285 Validation: 0.643200\n",
      "Epoch 38, CIFAR-10 Batch 3:  Loss:     0.5628 Validation: 0.653200\n",
      "Epoch 38, CIFAR-10 Batch 4:  Loss:     0.5602 Validation: 0.647000\n",
      "Epoch 38, CIFAR-10 Batch 5:  Loss:     0.5702 Validation: 0.636200\n",
      "Epoch 39, CIFAR-10 Batch 1:  Loss:     0.6298 Validation: 0.655000\n",
      "Epoch 39, CIFAR-10 Batch 2:  Loss:     0.6232 Validation: 0.639200\n",
      "Epoch 39, CIFAR-10 Batch 3:  Loss:     0.5235 Validation: 0.648200\n",
      "Epoch 39, CIFAR-10 Batch 4:  Loss:     0.5388 Validation: 0.643600\n",
      "Epoch 39, CIFAR-10 Batch 5:  Loss:     0.5267 Validation: 0.641200\n",
      "Epoch 40, CIFAR-10 Batch 1:  Loss:     0.6258 Validation: 0.646200\n",
      "Epoch 40, CIFAR-10 Batch 2:  Loss:     0.6013 Validation: 0.647400\n",
      "Epoch 40, CIFAR-10 Batch 3:  Loss:     0.4981 Validation: 0.651600\n",
      "Epoch 40, CIFAR-10 Batch 4:  Loss:     0.5356 Validation: 0.647400\n",
      "Epoch 40, CIFAR-10 Batch 5:  Loss:     0.5034 Validation: 0.644000\n"
     ]
    }
   ],
   "source": [
    "\"\"\"\n",
    "DON'T MODIFY ANYTHING IN THIS CELL\n",
    "\"\"\"\n",
    "save_model_path = './image_classification'\n",
    "\n",
    "print('Training...')\n",
    "with tf.Session() as sess:\n",
    "    # Initializing the variables\n",
    "    sess.run(tf.global_variables_initializer())\n",
    "    \n",
    "    # Training cycle\n",
    "    for epoch in range(epochs):\n",
    "        # Loop over all batches\n",
    "        n_batches = 5\n",
    "        for batch_i in range(1, n_batches + 1):\n",
    "            for batch_features, batch_labels in helper.load_preprocess_training_batch(batch_i, batch_size):\n",
    "                train_neural_network(sess, optimizer, keep_probability, batch_features, batch_labels)\n",
    "            print('Epoch {:>2}, CIFAR-10 Batch {}:  '.format(epoch + 1, batch_i), end='')\n",
    "            print_stats(sess, batch_features, batch_labels, cost, accuracy)\n",
    "            \n",
    "    # Save Model\n",
    "    saver = tf.train.Saver()\n",
    "    save_path = saver.save(sess, save_model_path)"
   ]
  },
  {
   "cell_type": "markdown",
   "metadata": {},
   "source": [
    "# Checkpoint\n",
    "The model has been saved to disk.\n",
    "## Test Model\n",
    "Test your model against the test dataset.  This will be your final accuracy. You should have an accuracy greater than 50%. If you don't, keep tweaking the model architecture and parameters."
   ]
  },
  {
   "cell_type": "code",
   "execution_count": 20,
   "metadata": {},
   "outputs": [
    {
     "name": "stdout",
     "output_type": "stream",
     "text": [
      "INFO:tensorflow:Restoring parameters from ./image_classification\n",
      "Testing Accuracy: 0.6496897995471954\n",
      "\n"
     ]
    },
    {
     "data": {
      "image/png": "[encoded data removed]",
      "text/plain": [
       "<matplotlib.figure.Figure at 0x7f287e6def98>"
      ]
     },
     "metadata": {
      "image/png": {
       "height": 319,
       "width": 355
      }
     },
     "output_type": "display_data"
    }
   ],
   "source": [
    "\"\"\"\n",
    "DON'T MODIFY ANYTHING IN THIS CELL\n",
    "\"\"\"\n",
    "%matplotlib inline\n",
    "%config InlineBackend.figure_format = 'retina'\n",
    "\n",
    "import tensorflow as tf\n",
    "import pickle\n",
    "import helper\n",
    "import random\n",
    "\n",
    "# Set batch size if not already set\n",
    "try:\n",
    "    if batch_size:\n",
    "        pass\n",
    "except NameError:\n",
    "    batch_size = 64\n",
    "\n",
    "save_model_path = './image_classification'\n",
    "n_samples = 4\n",
    "top_n_predictions = 3\n",
    "\n",
    "def test_model():\n",
    "    \"\"\"\n",
    "    Test the saved model against the test dataset\n",
    "    \"\"\"\n",
    "\n",
    "    test_features, test_labels = pickle.load(open('preprocess_training.p', mode='rb'))\n",
    "    loaded_graph = tf.Graph()\n",
    "\n",
    "    with tf.Session(graph=loaded_graph) as sess:\n",
    "        # Load model\n",
    "        loader = tf.train.import_meta_graph(save_model_path + '.meta')\n",
    "        loader.restore(sess, save_model_path)\n",
    "\n",
    "        # Get Tensors from loaded model\n",
    "        loaded_x = loaded_graph.get_tensor_by_name('x:0')\n",
    "        loaded_y = loaded_graph.get_tensor_by_name('y:0')\n",
    "        loaded_keep_prob = loaded_graph.get_tensor_by_name('keep_prob:0')\n",
    "        loaded_logits = loaded_graph.get_tensor_by_name('logits:0')\n",
    "        loaded_acc = loaded_graph.get_tensor_by_name('accuracy:0')\n",
    "        \n",
    "        # Get accuracy in batches for memory limitations\n",
    "        test_batch_acc_total = 0\n",
    "        test_batch_count = 0\n",
    "        \n",
    "        for train_feature_batch, train_label_batch in helper.batch_features_labels(test_features, test_labels, batch_size):\n",
    "            test_batch_acc_total += sess.run(\n",
    "                loaded_acc,\n",
    "                feed_dict={loaded_x: train_feature_batch, loaded_y: train_label_batch, loaded_keep_prob: 1.0})\n",
    "            test_batch_count += 1\n",
    "\n",
    "        print('Testing Accuracy: {}\\n'.format(test_batch_acc_total/test_batch_count))\n",
    "\n",
    "        # Print Random Samples\n",
    "        random_test_features, random_test_labels = tuple(zip(*random.sample(list(zip(test_features, test_labels)), n_samples)))\n",
    "        random_test_predictions = sess.run(\n",
    "            tf.nn.top_k(tf.nn.softmax(loaded_logits), top_n_predictions),\n",
    "            feed_dict={loaded_x: random_test_features, loaded_y: random_test_labels, loaded_keep_prob: 1.0})\n",
    "        helper.display_image_predictions(random_test_features, random_test_labels, random_test_predictions)\n",
    "\n",
    "\n",
    "test_model()"
   ]
  },
  {
   "cell_type": "markdown",
   "metadata": {},
   "source": [
    "## Why 50-70% Accuracy?\n",
    "You might be wondering why you can't get an accuracy any higher. First things first, 50% isn't bad for a simple CNN.  Pure guessing would get you 10% accuracy. However, you might notice people are getting scores [well above 70%](http://rodrigob.github.io/are_we_there_yet/build/classification_datasets_results.html#43494641522d3130).  That's because we haven't taught you all there is to know about neural networks. We still need to cover a few more techniques.\n",
    "## Submitting This Project\n",
    "When submitting this project, make sure to run all the cells before saving the notebook.  Save the notebook file as \"dlnd_image_classification.ipynb\" and save it as a HTML file under \"File\" -> \"Download as\".  Include the \"helper.py\" and \"problem_unittests.py\" files in your submission."
   ]
  }
 ],
 "metadata": {
  "kernelspec": {
   "display_name": "Python 3",
   "language": "python",
   "name": "python3"
  },
  "language_info": {
   "codemirror_mode": {
    "name": "ipython",
    "version": 3
   },
   "file_extension": ".py",
   "mimetype": "text/x-python",
   "name": "python",
   "nbconvert_exporter": "python",
   "pygments_lexer": "ipython3",
   "version": "3.5.3"
  }
 },
 "nbformat": 4,
 "nbformat_minor": 1
}
